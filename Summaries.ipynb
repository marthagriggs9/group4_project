{
 "cells": [
  {
   "cell_type": "code",
   "execution_count": 2,
   "metadata": {},
   "outputs": [],
   "source": [
    "# Import dependencies\n",
    "import matplotlib.pyplot as plt\n",
    "import pandas as pd\n",
    "import numpy as np\n",
    "import scipy.stats as stats\n",
    "from statistics import mean"
   ]
  },
  {
   "cell_type": "code",
   "execution_count": 3,
   "metadata": {},
   "outputs": [],
   "source": [
    "path_A =('Austin_data.csv')\n",
    "path_D = ('Dallas_data.csv')\n",
    "\n",
    "austin_df=pd.read_csv(path_A)\n",
    "dallas_df=pd.read_csv(path_D)"
   ]
  },
  {
   "cell_type": "code",
   "execution_count": 4,
   "metadata": {},
   "outputs": [
    {
     "name": "stdout",
     "output_type": "stream",
     "text": [
      "Austin Inventory average:  6,567.3359\n",
      "Dallas Inventory average:  13,396.0687\n",
      "\n",
      "Austin Median Sale Price average:  311.8779\n",
      "Dallas Median Sale Price average:  273.7023\n",
      "\n",
      "Austin Days on Market average:  32.1069\n",
      "Dallas Days on Market average:  35.6794\n",
      "\n"
     ]
    }
   ],
   "source": [
    "#Calculates Means for variables in both cities\n",
    "cities=['Austin','Dallas']\n",
    "variables=['Inventory', 'Median Sale Price', 'Days on Market']\n",
    "A_mean=[]\n",
    "D_mean=[]\n",
    "for variable in variables:\n",
    "\tfor city in cities:\n",
    "\t\tif city =='Austin':\n",
    "\t\t\tpopulation1=austin_df[variable]\n",
    "\t\t\tmean=population1.mean()\n",
    "\t\t\tA_mean.append(mean)\n",
    "\t\telse:\n",
    "\t\t\tpopulation2=dallas_df[variable]\n",
    "\t\t\tmean=population2.mean()\n",
    "\t\t\tD_mean.append(mean)\n",
    "\n",
    "\t\tprint(f'{city} {variable} average: {mean: ,.4f}')\n",
    "\tprint('')"
   ]
  },
  {
   "cell_type": "code",
   "execution_count": 5,
   "metadata": {},
   "outputs": [
    {
     "name": "stdout",
     "output_type": "stream",
     "text": [
      "Austin Inventory variance: 2,375,870.9325\n",
      "Dallas Inventory variance: 12,150,398.4337\n",
      "\n",
      "Austin Median Sale Price variance: 8,187.5696\n",
      "Dallas Median Sale Price variance: 5,284.6415\n",
      "\n",
      "Austin Days on Market variance: 150.8654\n",
      "Dallas Days on Market variance: 148.2656\n",
      "\n"
     ]
    }
   ],
   "source": [
    "#Calculates variances for variables in both cities\n",
    "cities=['Austin','Dallas']\n",
    "variables=['Inventory', 'Median Sale Price', 'Days on Market']\n",
    "A_var=[]\n",
    "D_var=[]\n",
    "\n",
    "for variable in variables:\n",
    "\tfor city in cities:\n",
    "\t\tif city =='Austin':\n",
    "\t\t\tpopulation1=austin_df[variable]\n",
    "\t\t\tsample_var=population1.var()\n",
    "\t\t\tA_var.append(sample_var)\n",
    "\t\telse:\n",
    "\t\t\tpopulation2=dallas_df[variable]\n",
    "\t\t\tsample_var=population2.var()\n",
    "\t\t\tD_var.append(sample_var)\n",
    "\n",
    "\t\tprint(f'{city} {variable} variance: {sample_var:,.4f}')\n",
    "\tprint('')"
   ]
  },
  {
   "cell_type": "code",
   "execution_count": 6,
   "metadata": {},
   "outputs": [
    {
     "name": "stdout",
     "output_type": "stream",
     "text": [
      "        Inventory_Mean  Median Sale Price_Mean  Days on Market_Mean\n",
      "Austin     6567.335878              311.877863            32.106870\n",
      "Dallas    13396.068702              273.702290            35.679389 \n",
      "\n",
      "        Inventory_Var  Median Sale Price_Var  Days on Market_Var\n",
      "Austin   2.375871e+06            8187.569583          150.865414\n",
      "Dallas   1.215040e+07            5284.641456          148.265649\n"
     ]
    }
   ],
   "source": [
    "#Creates databases and exports csv\n",
    "variables=['Inventory', 'Median Sale Price', 'Days on Market']\n",
    "\n",
    "values=[]\n",
    "values = zip(A_mean, D_mean)\n",
    "dic_mean={}\n",
    "title=[(var + '_Mean') for var in variables]\n",
    "dic_mean = dict(zip(title, values))\n",
    "\n",
    "sum_mean=pd.DataFrame(dic_mean, index=cities)\n",
    "\n",
    "values=[]\n",
    "values = zip(A_var, D_var)\n",
    "dic_var={}\n",
    "title=[(var + '_Var') for var in variables]\n",
    "dic_var = dict(zip(title, values))\n",
    "\n",
    "sum_var=pd.DataFrame(dic_var, index=cities)\n",
    "print(f'{sum_mean} \\n')\n",
    "print(sum_var)\n",
    "\n",
    "pd.merge(sum_mean, sum_var,left_index=True, right_index=True, how='outer').to_csv('.\\data\\Summary_variables.csv')"
   ]
  },
  {
   "cell_type": "code",
   "execution_count": null,
   "metadata": {},
   "outputs": [],
   "source": [
    "# Graph the variable distributions in boxplots\n",
    "\n",
    "variables=['Inventory', 'Median Sale Price', 'Days on Market']\n",
    "for variable in variables:\n",
    "    print(f'Boxplot for {variable} comparing Austin vs Dallas')\n",
    "    plt.boxplot((austin_df[variable], dallas_df[variable]))\n",
    "    plt.show();"
   ]
  },
  {
   "cell_type": "code",
   "execution_count": 100,
   "metadata": {},
   "outputs": [
    {
     "name": "stdout",
     "output_type": "stream",
     "text": [
      "Austin :\n",
      "         Month  Inventory  Median Sale Price  Days on Market\n",
      "0  2012-02-29       6941              190.0              74\n",
      "1  2019-12-31       5836              321.0              43\n",
      "2  2020-12-31       3462              369.0              36\n",
      "3  2022-12-31       7376              458.0              70\n",
      "\n",
      "Dallas :\n",
      "         Month  Inventory  Median Sale Price  Days on Market\n",
      "0  2012-02-29      17066              160.0              83\n",
      "1  2019-12-31      14899              296.0              58\n",
      "2  2020-12-31       8140              320.0              31\n",
      "3  2022-12-31      10137              402.0              45\n"
     ]
    }
   ],
   "source": [
    "# Calculates different changes in the variables.\n",
    "dates=[\"2012-02-29\",'2019-12-31','2020-12-31','2022-12-31']\n",
    "label=['Feb 2012','EOY 2019','EOY 2020','EOY 2022']\n",
    "\n",
    "# Finds the dates in both dataframes\n",
    "comparative_austin= pd.DataFrame()\n",
    "comparative_dallas=pd.DataFrame()\n",
    "\n",
    "for date in dates:\n",
    "    new_date=austin_df.loc[austin_df['Month']==date,\n",
    "                ('Month',\"Inventory\",'Median Sale Price','Days on Market')]\n",
    "    comparative_austin=pd.concat([comparative_austin,new_date], axis=0)\n",
    "comparative_austin\n",
    "\n",
    "for date in dates:\n",
    "    new_date=dallas_df.loc[dallas_df['Month']==date,\n",
    "                ('Month',\"Inventory\",'Median Sale Price','Days on Market')]\n",
    "    comparative_dallas=pd.concat([comparative_dallas,new_date], axis=0)\n",
    "\n",
    "comparative_austin.reset_index(drop=True, inplace=True)\n",
    "comparative_dallas.reset_index(drop=True, inplace=True)\n",
    "\n",
    "print(f'Austin :\\n {comparative_austin}\\n')\n",
    "print(f'Dallas :\\n {comparative_dallas}')\n",
    "\n",
    "\n"
   ]
  },
  {
   "cell_type": "code",
   "execution_count": 128,
   "metadata": {},
   "outputs": [
    {
     "name": "stdout",
     "output_type": "stream",
     "text": [
      "Inventory\n",
      "Austin -- Inventory change from 2012-02-29 to 2019-12-31 : -1105 , (-15.92%)\n",
      "Dallas -- Inventory change from 2012-02-29 to 2019-12-31 : -2167,  (-12.70%)\n",
      "Austin -- Inventory change from 2019-12-31 to 2020-12-31 : -2374 , (-40.68%)\n",
      "Dallas -- Inventory change from 2019-12-31 to 2020-12-31 : -6759,  (-45.37%)\n",
      "Austin -- Inventory change from 2020-12-31 to 2022-12-31 : 3914 , (113.06%)\n",
      "Dallas -- Inventory change from 2020-12-31 to 2022-12-31 : 1997,  ( 24.53%)\n",
      "Median Sale Price\n",
      "Austin -- Median Sale Price change from 2012-02-29 to 2019-12-31 : 131.0 , (68.95%)\n",
      "Dallas -- Median Sale Price change from 2012-02-29 to 2019-12-31 : 136.0,  ( 85.00%)\n",
      "Austin -- Median Sale Price change from 2019-12-31 to 2020-12-31 : 48.0 , (14.95%)\n",
      "Dallas -- Median Sale Price change from 2019-12-31 to 2020-12-31 : 24.0,  ( 8.11%)\n",
      "Austin -- Median Sale Price change from 2020-12-31 to 2022-12-31 : 89.0 , (24.12%)\n",
      "Dallas -- Median Sale Price change from 2020-12-31 to 2022-12-31 : 82.0,  ( 25.62%)\n",
      "Days on Market\n",
      "Austin -- Days on Market change from 2012-02-29 to 2019-12-31 : -31 , (-41.89%)\n",
      "Dallas -- Days on Market change from 2012-02-29 to 2019-12-31 : -25,  (-30.12%)\n",
      "Austin -- Days on Market change from 2019-12-31 to 2020-12-31 : -7 , (-16.28%)\n",
      "Dallas -- Days on Market change from 2019-12-31 to 2020-12-31 : -27,  (-46.55%)\n",
      "Austin -- Days on Market change from 2020-12-31 to 2022-12-31 : 34 , (94.44%)\n",
      "Dallas -- Days on Market change from 2020-12-31 to 2022-12-31 : 14,  ( 45.16%)\n"
     ]
    }
   ],
   "source": [
    "#Calculates the diferences\n",
    "variables=['Inventory', 'Median Sale Price', 'Days on Market']\n",
    "date0=''\n",
    "date1=''\n",
    "texth=[]\n",
    "\n",
    "for variable in variables:\n",
    "    print(variable)\n",
    "    #Austin\n",
    "    for j in range(1,4):\n",
    "        date0=comparative_austin.at[j-1,'Month']\n",
    "        date1=comparative_austin.at[j,'Month']\n",
    "        value0=comparative_austin.at[j-1,variable]\n",
    "        value1=comparative_austin.at[j,variable]\n",
    "        dif=value1-value0\n",
    "        percent=(dif/value0)*100\n",
    "        \n",
    "        print(f'Austin -- {variable} change from {date0} to {date1} : {dif} , ({percent:.2f}%)')\n",
    "        texth.append(f'Austin , {variable} change from {date0} to {date1} , {dif} , ({percent:.2f}%)')   \n",
    "        \n",
    "    #Dallas\n",
    "        date0=comparative_dallas.at[j-1,'Month']\n",
    "        date1=comparative_dallas.at[j,'Month']\n",
    "        value0=comparative_dallas.at[j-1,variable]\n",
    "        value1=comparative_dallas.at[j,variable]\n",
    "        dif=value1-value0\n",
    "        percent=(dif/value0)*100\n",
    "        print(f'Dallas -- {variable} change from {date0} to {date1} : {dif},  ({percent: .2f}%)')\n",
    "        texth.append(f'Dallas , {variable} change from {date0} to {date1} , {dif} , {percent: .2f}%')\n",
    "\n",
    "\n",
    "      #Output to a csv file\n",
    "np.savetxt(\".\\data\\historical_changes.csv\", \n",
    "           texth,\n",
    "           delimiter =\" , \", \n",
    "           fmt ='% s')"
   ]
  },
  {
   "cell_type": "code",
   "execution_count": 123,
   "metadata": {},
   "outputs": [
    {
     "name": "stdout",
     "output_type": "stream",
     "text": [
      "Inventory\n",
      "Austin -- Inventory change from 2012-02-29 to 2022-12-31 : 435  (6.27%)\n",
      "Dallas -- Inventory change from 2012-02-29 to 2022-12-31 : -6929 (-40.60%)\n",
      "Median Sale Price\n",
      "Austin -- Median Sale Price change from 2012-02-29 to 2022-12-31 : 268.0  (141.05%)\n",
      "Dallas -- Median Sale Price change from 2012-02-29 to 2022-12-31 : 242.0 ( 151.25%)\n",
      "Days on Market\n",
      "Austin -- Days on Market change from 2012-02-29 to 2022-12-31 : -4  (-5.41%)\n",
      "Dallas -- Days on Market change from 2012-02-29 to 2022-12-31 : -38 (-45.78%)\n"
     ]
    }
   ],
   "source": [
    "#Total diferemce\n",
    "#Calculates the diferences\n",
    "variables=['Inventory', 'Median Sale Price', 'Days on Market']\n",
    "date0=''\n",
    "date1=''\n",
    "text=[] #pd.DataFrame()\n",
    "\n",
    "for variable in variables:\n",
    "    print(variable)\n",
    "    #Austin\n",
    "    date0=comparative_austin.at[0,'Month']\n",
    "    date1=comparative_austin.at[3,'Month']\n",
    "    value0=comparative_austin.at[0,variable]\n",
    "    value1=comparative_austin.at[3,variable]\n",
    "    dif=value1-value0\n",
    "    percent=dif/value0*100\n",
    "\n",
    "    text.append(f'Austin , {variable} change from {date0} to {date1} , {dif} , ({percent:.2f}%)')    \n",
    "    print(f'Austin -- {variable} change from {date0} to {date1} : {dif}  ({percent:.2f}%)')\n",
    "        \n",
    "    #Dallas\n",
    "    date0=comparative_dallas.at[0,'Month']\n",
    "    date1=comparative_dallas.at[3,'Month']\n",
    "    value0=comparative_dallas.at[0,variable]\n",
    "    value1=comparative_dallas.at[3,variable]\n",
    "    dif=value1-value0\n",
    "    percent=(dif/value0)*100\n",
    "    \n",
    "    text.append(f'Dallas , {variable} change from {date0} to {date1} , {dif} , ({percent: .2f}%)')\n",
    "    print(f'Dallas -- {variable} change from {date0} to {date1} : {dif} ({percent: .2f}%)')\n",
    "\n",
    "#Output to a csv file\n",
    "np.savetxt(\".\\data\\Change_12_20.csv\", \n",
    "           text,\n",
    "           delimiter =\" , \", \n",
    "           fmt ='% s')"
   ]
  }
 ],
 "metadata": {
  "kernelspec": {
   "display_name": "base",
   "language": "python",
   "name": "python3"
  },
  "language_info": {
   "codemirror_mode": {
    "name": "ipython",
    "version": 3
   },
   "file_extension": ".py",
   "mimetype": "text/x-python",
   "name": "python",
   "nbconvert_exporter": "python",
   "pygments_lexer": "ipython3",
   "version": "3.9.13"
  },
  "orig_nbformat": 4,
  "vscode": {
   "interpreter": {
    "hash": "37b8293b345eb874ab098ce2dbb6eab20e2e3399acbebac802196b01c5a51e4f"
   }
  }
 },
 "nbformat": 4,
 "nbformat_minor": 2
}
