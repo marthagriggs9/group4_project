{
 "cells": [
  {
   "attachments": {},
   "cell_type": "markdown",
   "metadata": {},
   "source": [
    "# Data Cleaning\n",
    "\n",
    "## This module cleans the database obtained from the data center of Redfin:\n",
    "\n",
    "Redfin 2023, Redfin website, California USA, accesed 08 February 2023, <https://www.redfin.com/news/data-center/> \n",
    "\n",
    "[Link to REDFIN HOMEPAGE](https://www.redfin.com)\n",
    "\n",
    "[Link to REDFIN DATACENTER](https://www.redfin.com/news/data-center/)\n",
    "\n",
    "Code"
   ]
  },
  {
   "cell_type": "code",
   "execution_count": 22,
   "metadata": {},
   "outputs": [],
   "source": [
    "# Import dependencies\n",
    "import matplotlib.pyplot as plt\n",
    "import pandas as pd\n",
    "import numpy as np\n",
    "#import random\n",
    "from scipy.stats import pearsonr\n",
    "from datetime import datetime\n"
   ]
  },
  {
   "cell_type": "code",
   "execution_count": 23,
   "metadata": {},
   "outputs": [
    {
     "data": {
      "text/plain": [
       "City                         object\n",
       "State                        object\n",
       "Month of Period End          object\n",
       "Median Sale Price            object\n",
       "Median Sale Price MoM        object\n",
       "Median Sale Price YoY        object\n",
       "Homes Sold                   object\n",
       "Homes Sold MoM               object\n",
       "Homes Sold YoY               object\n",
       "New Listings                 object\n",
       "New Listings MoM             object\n",
       "New Listings YoY             object\n",
       "Inventory                    object\n",
       "Inventory MoM                object\n",
       " Inventory YoY               object\n",
       "Days on Market                int64\n",
       "Days on Market MoM            int64\n",
       "Days on Market YoY            int64\n",
       "Average Sale To List         object\n",
       "Average Sale To List MoM     object\n",
       "Average Sale To List YoY     object\n",
       "dtype: object"
      ]
     },
     "execution_count": 23,
     "metadata": {},
     "output_type": "execute_result"
    }
   ],
   "source": [
    "#Define columns to erase\n",
    "orig_df=pd.read_csv('newdata.csv')\n",
    "list(orig_df)\n",
    "orig_df.dtypes"
   ]
  },
  {
   "cell_type": "code",
   "execution_count": 24,
   "metadata": {},
   "outputs": [
    {
     "data": {
      "text/html": [
       "<div>\n",
       "<style scoped>\n",
       "    .dataframe tbody tr th:only-of-type {\n",
       "        vertical-align: middle;\n",
       "    }\n",
       "\n",
       "    .dataframe tbody tr th {\n",
       "        vertical-align: top;\n",
       "    }\n",
       "\n",
       "    .dataframe thead th {\n",
       "        text-align: right;\n",
       "    }\n",
       "</style>\n",
       "<table border=\"1\" class=\"dataframe\">\n",
       "  <thead>\n",
       "    <tr style=\"text-align: right;\">\n",
       "      <th></th>\n",
       "      <th>City</th>\n",
       "      <th>State</th>\n",
       "      <th>Month of Period End</th>\n",
       "      <th>Median Sale Price</th>\n",
       "      <th>Median Sale Price MoM</th>\n",
       "      <th>Homes Sold</th>\n",
       "      <th>Inventory</th>\n",
       "      <th>Inventory MoM</th>\n",
       "      <th>Days on Market</th>\n",
       "      <th>Days on Market MoM</th>\n",
       "      <th>Average Sale To List</th>\n",
       "    </tr>\n",
       "  </thead>\n",
       "  <tbody>\n",
       "    <tr>\n",
       "      <th>0</th>\n",
       "      <td>Austin</td>\n",
       "      <td>Texas</td>\n",
       "      <td>Feb-12</td>\n",
       "      <td>$190K</td>\n",
       "      <td>5.60%</td>\n",
       "      <td>1,403</td>\n",
       "      <td>6,941</td>\n",
       "      <td>1.20%</td>\n",
       "      <td>74</td>\n",
       "      <td>0</td>\n",
       "      <td>96.70%</td>\n",
       "    </tr>\n",
       "    <tr>\n",
       "      <th>1</th>\n",
       "      <td>Austin</td>\n",
       "      <td>Texas</td>\n",
       "      <td>Mar-12</td>\n",
       "      <td>$200K</td>\n",
       "      <td>5.10%</td>\n",
       "      <td>2,076</td>\n",
       "      <td>7,394</td>\n",
       "      <td>6.50%</td>\n",
       "      <td>58</td>\n",
       "      <td>-16</td>\n",
       "      <td>97.30%</td>\n",
       "    </tr>\n",
       "    <tr>\n",
       "      <th>2</th>\n",
       "      <td>Austin</td>\n",
       "      <td>Texas</td>\n",
       "      <td>Apr-12</td>\n",
       "      <td>$205K</td>\n",
       "      <td>2.70%</td>\n",
       "      <td>2,120</td>\n",
       "      <td>7,698</td>\n",
       "      <td>4.10%</td>\n",
       "      <td>39</td>\n",
       "      <td>-19</td>\n",
       "      <td>97.70%</td>\n",
       "    </tr>\n",
       "    <tr>\n",
       "      <th>3</th>\n",
       "      <td>Austin</td>\n",
       "      <td>Texas</td>\n",
       "      <td>May-12</td>\n",
       "      <td>$210K</td>\n",
       "      <td>2.40%</td>\n",
       "      <td>2,584</td>\n",
       "      <td>7,908</td>\n",
       "      <td>2.70%</td>\n",
       "      <td>36</td>\n",
       "      <td>-3</td>\n",
       "      <td>97.60%</td>\n",
       "    </tr>\n",
       "    <tr>\n",
       "      <th>4</th>\n",
       "      <td>Austin</td>\n",
       "      <td>Texas</td>\n",
       "      <td>Jun-12</td>\n",
       "      <td>$214K</td>\n",
       "      <td>2.00%</td>\n",
       "      <td>2,842</td>\n",
       "      <td>8,152</td>\n",
       "      <td>3.10%</td>\n",
       "      <td>31</td>\n",
       "      <td>-5</td>\n",
       "      <td>97.80%</td>\n",
       "    </tr>\n",
       "  </tbody>\n",
       "</table>\n",
       "</div>"
      ],
      "text/plain": [
       "     City  State Month of Period End Median Sale Price Median Sale Price MoM   \\\n",
       "0  Austin  Texas              Feb-12             $190K                  5.60%   \n",
       "1  Austin  Texas              Mar-12             $200K                  5.10%   \n",
       "2  Austin  Texas              Apr-12             $205K                  2.70%   \n",
       "3  Austin  Texas              May-12             $210K                  2.40%   \n",
       "4  Austin  Texas              Jun-12             $214K                  2.00%   \n",
       "\n",
       "  Homes Sold Inventory Inventory MoM   Days on Market  Days on Market MoM  \\\n",
       "0      1,403     6,941          1.20%              74                   0   \n",
       "1      2,076     7,394          6.50%              58                 -16   \n",
       "2      2,120     7,698          4.10%              39                 -19   \n",
       "3      2,584     7,908          2.70%              36                  -3   \n",
       "4      2,842     8,152          3.10%              31                  -5   \n",
       "\n",
       "  Average Sale To List  \n",
       "0               96.70%  \n",
       "1               97.30%  \n",
       "2               97.70%  \n",
       "3               97.60%  \n",
       "4               97.80%  "
      ]
     },
     "execution_count": 24,
     "metadata": {},
     "output_type": "execute_result"
    }
   ],
   "source": [
    "clean_df =orig_df.drop(labels=['Median Sale Price YoY ',\n",
    "'Median Sale Price YoY ',\n",
    "'Homes Sold MoM ',\n",
    "'Homes Sold YoY ',\n",
    "'New Listings',\n",
    "'New Listings MoM ',\n",
    "'New Listings YoY ', \n",
    "' Inventory YoY ',\n",
    "'Days on Market YoY',\n",
    "'Average Sale To List MoM ',\n",
    "'Average Sale To List YoY '], axis=1)\n",
    " \n",
    "clean_df.head()\n"
   ]
  },
  {
   "cell_type": "code",
   "execution_count": 25,
   "metadata": {},
   "outputs": [
    {
     "data": {
      "text/plain": [
       "['City',\n",
       " 'State',\n",
       " 'Month',\n",
       " 'Median Sale Price',\n",
       " 'Median Sale Price MoM',\n",
       " 'Homes Sold',\n",
       " 'Inventory',\n",
       " 'Inventory MoM',\n",
       " 'Days on Market',\n",
       " 'Days on Market MoM',\n",
       " 'Average Sale To List']"
      ]
     },
     "execution_count": 25,
     "metadata": {},
     "output_type": "execute_result"
    }
   ],
   "source": [
    "#Clean spaces in the titles and rename month\n",
    "clean_df.rename(columns={'Median Sale Price MoM ':'Median Sale Price MoM', 'Inventory MoM ':'Inventory MoM',\n",
    "                        'Month of Period End':'Month'}, inplace=True)\n",
    "list(clean_df)"
   ]
  },
  {
   "cell_type": "code",
   "execution_count": 26,
   "metadata": {},
   "outputs": [
    {
     "data": {
      "text/plain": [
       "City                     object\n",
       "State                    object\n",
       "Month                    object\n",
       "Median Sale Price        object\n",
       "Median Sale Price MoM    object\n",
       "Homes Sold               object\n",
       "Inventory                object\n",
       "Inventory MoM            object\n",
       "Days on Market            int64\n",
       "Days on Market MoM        int64\n",
       "Average Sale To List     object\n",
       "dtype: object"
      ]
     },
     "execution_count": 26,
     "metadata": {},
     "output_type": "execute_result"
    }
   ],
   "source": [
    "#Check for the types of the columns\n",
    "clean_df.dtypes\n"
   ]
  },
  {
   "cell_type": "code",
   "execution_count": 27,
   "metadata": {},
   "outputs": [
    {
     "name": "stderr",
     "output_type": "stream",
     "text": [
      "C:\\Users\\Celvir\\AppData\\Local\\Temp\\ipykernel_31560\\1078010608.py:2: FutureWarning: The default value of regex will change from True to False in a future version. In addition, single character regular expressions will *not* be treated as literal strings when regex=True.\n",
      "  clean_df['Median Sale Price']=clean_df['Median Sale Price'].str.replace('$','')\n"
     ]
    }
   ],
   "source": [
    "#Converting sales to numbers\n",
    "clean_df['Median Sale Price']=clean_df['Median Sale Price'].str.replace('$','')\n",
    "clean_df['Median Sale Price']=clean_df['Median Sale Price'].str.rstrip('K')\n",
    "clean_df['Median Sale Price']=clean_df['Median Sale Price'].astype(float)"
   ]
  },
  {
   "cell_type": "code",
   "execution_count": 28,
   "metadata": {},
   "outputs": [],
   "source": [
    "#Cleaan all commas at once\n",
    "clean_df = clean_df.replace(',','', regex=True)\n",
    "clean_df.dtypes\n",
    "\n",
    "#Convert columns with \"\" to integers\n",
    "columns=['Homes Sold', 'Inventory']\n",
    "for column in columns:\n",
    "    clean_df[column]=clean_df[column].str.replace('\"','')\n",
    "    clean_df[column]=clean_df[column].astype(int)"
   ]
  },
  {
   "cell_type": "code",
   "execution_count": 29,
   "metadata": {},
   "outputs": [
    {
     "data": {
      "text/plain": [
       "City                      object\n",
       "State                     object\n",
       "Month                     object\n",
       "Median Sale Price        float64\n",
       "Median Sale Price MoM    float64\n",
       "Homes Sold                 int32\n",
       "Inventory                  int32\n",
       "Inventory MoM            float64\n",
       "Days on Market             int64\n",
       "Days on Market MoM         int64\n",
       "Average Sale To List     float64\n",
       "dtype: object"
      ]
     },
     "execution_count": 29,
     "metadata": {},
     "output_type": "execute_result"
    }
   ],
   "source": [
    "#Coverting columns with percentages to numbers\n",
    "columns=['Median Sale Price MoM','Inventory MoM','Average Sale To List']\n",
    "for column in columns:\n",
    "    clean_df[column]=clean_df[column].str.rstrip('%').astype(float)\n",
    "clean_df.dtypes"
   ]
  },
  {
   "cell_type": "code",
   "execution_count": 30,
   "metadata": {},
   "outputs": [],
   "source": [
    "#Change month to a readable format\n",
    "dates=[]\n",
    "start=datetime.strptime\n",
    "dates = [i.strftime(\"%b-%y\") for i in pd.date_range(start='2/1/2012', end='1/1/2023', freq='M')]\n",
    "simply_date=[]\n",
    "#Loop for correct dates for Austin and Dallas \n",
    "for cont in range(2):\n",
    "    for date in dates:  \n",
    "         simply_date.append(date)\n",
    "clean_df['Month']=simply_date"
   ]
  },
  {
   "cell_type": "code",
   "execution_count": 31,
   "metadata": {},
   "outputs": [],
   "source": [
    "#Create a CSV file\n",
    "path='cleandata.csv'\n",
    "clean_df.to_csv(path, index=0)"
   ]
  }
 ],
 "metadata": {
  "kernelspec": {
   "display_name": "base",
   "language": "python",
   "name": "python3"
  },
  "language_info": {
   "codemirror_mode": {
    "name": "ipython",
    "version": 3
   },
   "file_extension": ".py",
   "mimetype": "text/x-python",
   "name": "python",
   "nbconvert_exporter": "python",
   "pygments_lexer": "ipython3",
   "version": "3.9.13"
  },
  "orig_nbformat": 4,
  "vscode": {
   "interpreter": {
    "hash": "37b8293b345eb874ab098ce2dbb6eab20e2e3399acbebac802196b01c5a51e4f"
   }
  }
 },
 "nbformat": 4,
 "nbformat_minor": 2
}
