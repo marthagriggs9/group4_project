{
 "cells": [
  {
   "attachments": {},
   "cell_type": "markdown",
   "metadata": {},
   "source": [
    "Hypothesis Tests for Austin and Dallas"
   ]
  },
  {
   "cell_type": "code",
   "execution_count": 1,
   "metadata": {},
   "outputs": [],
   "source": [
    "# Import dependencies\n",
    "import matplotlib.pyplot as plt\n",
    "import pandas as pd\n",
    "import numpy as np\n",
    "import scipy.stats as stats\n",
    "from statistics import mean"
   ]
  },
  {
   "cell_type": "code",
   "execution_count": 2,
   "metadata": {},
   "outputs": [],
   "source": [
    "path_A =('data/Austin_data.csv')\n",
    "path_D = ('data/Dallas_data.csv')\n",
    "\n",
    "austin_df=pd.read_csv(path_A)\n",
    "dallas_df=pd.read_csv(path_D)"
   ]
  },
  {
   "cell_type": "code",
   "execution_count": 3,
   "metadata": {},
   "outputs": [
    {
     "name": "stdout",
     "output_type": "stream",
     "text": [
      "Austin Inventory average:  6,567.3359\n",
      "Dallas Inventory average:  13,396.0687\n",
      "\n",
      "Austin Median Sale Price average:  311.8779\n",
      "Dallas Median Sale Price average:  273.7023\n",
      "\n",
      "Austin Days on Market average:  32.1069\n",
      "Dallas Days on Market average:  35.6794\n",
      "\n"
     ]
    }
   ],
   "source": [
    "#Calculates Means for variables in both cities\n",
    "cities=['Austin','Dallas']\n",
    "variables=['Inventory', 'Median Sale Price', 'Days on Market']\n",
    "\n",
    "for variable in variables:\n",
    "\tfor city in cities:\n",
    "\t\tif city =='Austin':\n",
    "\t\t\tpopulation1=austin_df[variable]\n",
    "\t\t\tmean=population1.mean()\n",
    "\t\telse:\n",
    "\t\t\tpopulation2=dallas_df[variable]\n",
    "\t\t\tmean=population2.mean()\n",
    "\n",
    "\t\tprint(f'{city} {variable} average: {mean: ,.4f}')\n",
    "\tprint('')"
   ]
  },
  {
   "cell_type": "code",
   "execution_count": 4,
   "metadata": {},
   "outputs": [
    {
     "name": "stdout",
     "output_type": "stream",
     "text": [
      "Austin Inventory variance: 2,375,870.9325\n",
      "Dallas Inventory variance: 12,150,398.4337\n",
      "\n",
      "Austin Median Sale Price variance: 8,187.5696\n",
      "Dallas Median Sale Price variance: 5,284.6415\n",
      "\n",
      "Austin Days on Market variance: 150.8654\n",
      "Dallas Days on Market variance: 148.2656\n",
      "\n"
     ]
    }
   ],
   "source": [
    "#Calculates variances for vraiables in both cities\n",
    "cities=['Austin','Dallas']\n",
    "variables=['Inventory', 'Median Sale Price', 'Days on Market']\n",
    "\n",
    "for variable in variables:\n",
    "\tfor city in cities:\n",
    "\t\tif city =='Austin':\n",
    "\t\t\tpopulation1=austin_df[variable]\n",
    "\t\t\tsample_var=population1.var()\n",
    "\t\telse:\n",
    "\t\t\tpopulation2=dallas_df[variable]\n",
    "\t\t\tsample_var=population2.var()\n",
    "\n",
    "\t\tprint(f'{city} {variable} variance: {sample_var:,.4f}')\n",
    "\tprint('')"
   ]
  },
  {
   "cell_type": "code",
   "execution_count": 5,
   "metadata": {},
   "outputs": [
    {
     "name": "stdout",
     "output_type": "stream",
     "text": [
      "T-test for the equality of medians for the series:\n",
      "\n",
      "Calculations for Dallas Median Sale Price t-test: t-statistic( 3.7645) , p-value ( 0.0002)\n",
      "As the p-value is less than our critical value (0.05) the hypothesis is rejected\n",
      "\n",
      "T-test for the equality of medians for the series:\n",
      "\n",
      "Calculations for Dallas Days on Market t-test: t-statistic(-2.3642) , p-value ( 0.0188)\n",
      "As the p-value is less than our critical value (0.05) the hypothesis is rejected\n",
      "\n"
     ]
    }
   ],
   "source": [
    "#Calculates regression lines for hotness index vs inventories, price, days in market\n",
    "cities=['Austin','Dallas']\n",
    "variables=['Median Sale Price', 'Days on Market']\n",
    "\n",
    "for variable in variables:\n",
    "\tfor city in cities:\n",
    "\t\tif city =='Austin':\n",
    "\t\t\tpopulation1=austin_df[variable]\n",
    "\t\telse:\n",
    "\t\t\tpopulation2=dallas_df[variable]\n",
    "\n",
    "\t#Days on the market could be the same\n",
    "\tresult=stats.ttest_ind(population1, population2, equal_var=False)\n",
    "\n",
    "\tif result.pvalue>=0.05:\n",
    "\t\tdecision='not rejected'\n",
    "\t\tcomparision='greater or equal'\n",
    "\telse:\n",
    "\t\tdecision='rejected'\n",
    "\t\tcomparision='less'\n",
    "\n",
    "\t#Prints the results \n",
    "\tprint('T-test for the equality of medians for the series:\\n')\n",
    "\tprint(f'Calculations for {city} {variable} t-test: t-statistic({result.statistic: .4f}) , p-value ({result.pvalue: .4f})')\n",
    "\tprint(f'As the p-value is {comparision} than our critical value (0.05) the hypothesis is {decision}\\n')\n"
   ]
  },
  {
   "cell_type": "code",
   "execution_count": 24,
   "metadata": {},
   "outputs": [
    {
     "data": {
      "text/plain": [
       "Text(1.9, 2600, 'Dallas')"
      ]
     },
     "execution_count": 24,
     "metadata": {},
     "output_type": "execute_result"
    },
    {
     "data": {
      "image/png": "[encoded data removed]",
      "text/plain": [
       "<Figure size 432x288 with 1 Axes>"
      ]
     },
     "metadata": {
      "needs_background": "light"
     },
     "output_type": "display_data"
    }
   ],
   "source": [
    "data=pd.DataFrame({'Austin':austin_df['Inventory'], 'Dallas':dallas_df['Inventory']})\n",
    "bp =plt.boxplot((austin_df[\"Inventory\"], dallas_df[\"Inventory\"]));\n",
    "plt.title(\"Boxplot grouped by Inventory\")\n",
    "plt.xlabel(\"City\")\n",
    "plt.ylabel(\"Average Inventory\")\n",
    "plt.annotate(\"Austin\", (0.9,15000), fontsize=12,color=\"coral\", fontweight=\"bold\")\n",
    "plt.annotate(\"Dallas\", (1.9,2600), fontsize=12,color=\"midnightblue\", fontweight=\"bold\")"
   ]
  },
  {
   "cell_type": "code",
   "execution_count": 25,
   "metadata": {},
   "outputs": [
    {
     "data": {
      "text/plain": [
       "Text(1.9, 500, 'Dallas')"
      ]
     },
     "execution_count": 25,
     "metadata": {},
     "output_type": "execute_result"
    },
    {
     "data": {
      "image/png": "[encoded data removed]",
      "text/plain": [
       "<Figure size 432x288 with 1 Axes>"
      ]
     },
     "metadata": {
      "needs_background": "light"
     },
     "output_type": "display_data"
    }
   ],
   "source": [
    "plt.boxplot((austin_df[\"Median Sale Price\"], dallas_df[\"Median Sale Price\"]));\n",
    "plt.title(\"Boxplot grouped by Median Sale Price\")\n",
    "plt.xlabel(\"City\")\n",
    "plt.ylabel(\"Median Sale Price (K)\")\n",
    "plt.annotate(\"Austin\", (0.9,155), fontsize=12,color=\"coral\", fontweight=\"bold\")\n",
    "plt.annotate(\"Dallas\", (1.9,500), fontsize=12,color=\"midnightblue\", fontweight=\"bold\")"
   ]
  },
  {
   "cell_type": "code",
   "execution_count": 26,
   "metadata": {},
   "outputs": [
    {
     "data": {
      "text/plain": [
       "Text(1.9, 70, 'Dallas')"
      ]
     },
     "execution_count": 26,
     "metadata": {},
     "output_type": "execute_result"
    },
    {
     "data": {
      "image/png": "[encoded data removed]",
      "text/plain": [
       "<Figure size 432x288 with 1 Axes>"
      ]
     },
     "metadata": {
      "needs_background": "light"
     },
     "output_type": "display_data"
    }
   ],
   "source": [
    "plt.boxplot((austin_df[\"Days on Market\"], dallas_df[\"Days on Market\"]));\n",
    "plt.title(\"Boxplot grouped by Days on Market\")\n",
    "plt.xlabel(\"City\")\n",
    "plt.ylabel(\"Average Days on Market\")\n",
    "plt.annotate(\"Austin\", (0.9,80), fontsize=12,color=\"coral\", fontweight=\"bold\")\n",
    "plt.annotate(\"Dallas\", (1.9,70), fontsize=12,color=\"midnightblue\", fontweight=\"bold\")"
   ]
  },
  {
   "cell_type": "code",
   "execution_count": null,
   "metadata": {},
   "outputs": [],
   "source": []
  },
  {
   "cell_type": "code",
   "execution_count": null,
   "metadata": {},
   "outputs": [],
   "source": []
  }
 ],
 "metadata": {
  "kernelspec": {
   "display_name": "PythonData",
   "language": "python",
   "name": "python3"
  },
  "language_info": {
   "codemirror_mode": {
    "name": "ipython",
    "version": 3
   },
   "file_extension": ".py",
   "mimetype": "text/x-python",
   "name": "python",
   "nbconvert_exporter": "python",
   "pygments_lexer": "ipython3",
   "version": "3.7.7"
  },
  "orig_nbformat": 4,
  "vscode": {
   "interpreter": {
    "hash": "8bc0639b20ada1ce0b6840da4fc3c1dc4d89207ec4036cee9b5a24f9fff80812"
   }
  }
 },
 "nbformat": 4,
 "nbformat_minor": 2
}
