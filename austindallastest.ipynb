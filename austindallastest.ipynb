{
 "cells": [
  {
   "attachments": {},
   "cell_type": "markdown",
   "metadata": {},
   "source": [
    "## Comparing Housing Market \"Hotness\": Dallas vs Austin"
   ]
  },
  {
   "cell_type": "code",
   "execution_count": null,
   "metadata": {},
   "outputs": [],
   "source": [
    "# Import dependencies\n",
    "import matplotlib.pyplot as plt\n",
    "import pandas as pd\n",
    "import numpy as np\n",
    "import requests\n",
    "import time\n",
    "from scipy.stats import linregress\n",
    " \n",
    "# FOR THE MAPPING OF HOUSES PLEASE CREATE AN API KEY AND IMPORT THIS:\n",
    "# import hvplot.pandas\n",
    "#import requests\n",
    "#Import warnings\n",
    "#warnings.filterwarnings(\"ignore\")\n",
    " "
   ]
  },
  {
   "attachments": {},
   "cell_type": "markdown",
   "metadata": {},
   "source": []
  },
  {
   "cell_type": "code",
   "execution_count": null,
   "metadata": {},
   "outputs": [],
   "source": []
  },
  {
   "cell_type": "code",
   "execution_count": null,
   "metadata": {},
   "outputs": [],
   "source": []
  }
 ],
 "metadata": {
  "kernelspec": {
   "display_name": "base",
   "language": "python",
   "name": "python3"
  },
  "language_info": {
   "name": "python",
   "version": "3.9.13"
  },
  "orig_nbformat": 4,
  "vscode": {
   "interpreter": {
    "hash": "37b8293b345eb874ab098ce2dbb6eab20e2e3399acbebac802196b01c5a51e4f"
   }
  }
 },
 "nbformat": 4,
 "nbformat_minor": 2
}
