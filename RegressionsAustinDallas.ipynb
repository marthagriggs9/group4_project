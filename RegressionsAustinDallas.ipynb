{
 "cells": [
  {
   "cell_type": "code",
   "execution_count": 1,
   "metadata": {},
   "outputs": [],
   "source": [
    "# Import dependencies\n",
    "import matplotlib.pyplot as plt\n",
    "import pandas as pd\n",
    "import numpy as np\n",
    "from scipy import stats\n",
    "from scipy.stats import pearsonr\n",
    "from scipy.stats import linregress\n",
    "from datetime import datetime\n",
    "from statistics import mean"
   ]
  },
  {
   "cell_type": "code",
   "execution_count": 2,
   "metadata": {},
   "outputs": [],
   "source": [
    "path_A =('data/Austin_data.csv')\n",
    "path_D = ('data/Dallas_data.csv')\n",
    "\n",
    "austin_df=pd.read_csv(path_A)\n",
    "dallas_df=pd.read_csv(path_D)"
   ]
  },
  {
   "cell_type": "code",
   "execution_count": 3,
   "metadata": {},
   "outputs": [],
   "source": [
    "#Get the indexes\n",
    "path =('data/Hotness_ratio.csv')\n",
    "hotness_ratio =pd.read_csv(path)\n",
    "\n",
    "merge_A_data=pd.merge(austin_df,hotness_ratio, how='outer')\n",
    "merge_D_data=pd.merge(dallas_df,hotness_ratio, how='outer')\n",
    "\n",
    "merge_Austin_data=merge_A_data.loc[merge_A_data['CR Austin']>0]\n",
    "merge_Dallas_data=merge_D_data.loc[merge_D_data['CR Dallas']>0]\n"
   ]
  },
  {
   "cell_type": "code",
   "execution_count": 4,
   "metadata": {},
   "outputs": [
    {
     "data": {
      "text/html": [
       "<div>\n",
       "<style scoped>\n",
       "    .dataframe tbody tr th:only-of-type {\n",
       "        vertical-align: middle;\n",
       "    }\n",
       "\n",
       "    .dataframe tbody tr th {\n",
       "        vertical-align: top;\n",
       "    }\n",
       "\n",
       "    .dataframe thead th {\n",
       "        text-align: right;\n",
       "    }\n",
       "</style>\n",
       "<table border=\"1\" class=\"dataframe\">\n",
       "  <thead>\n",
       "    <tr style=\"text-align: right;\">\n",
       "      <th></th>\n",
       "      <th>City</th>\n",
       "      <th>State</th>\n",
       "      <th>Month</th>\n",
       "      <th>Median Sale Price</th>\n",
       "      <th>Median Sale Price MoM</th>\n",
       "      <th>Homes Sold</th>\n",
       "      <th>Inventory</th>\n",
       "      <th>Inventory MoM</th>\n",
       "      <th>Days on Market</th>\n",
       "      <th>Days on Market MoM</th>\n",
       "      <th>Average Sale To List</th>\n",
       "      <th>CR Austin</th>\n",
       "      <th>CR Dallas</th>\n",
       "    </tr>\n",
       "  </thead>\n",
       "  <tbody>\n",
       "    <tr>\n",
       "      <th>11</th>\n",
       "      <td>Austin</td>\n",
       "      <td>Texas</td>\n",
       "      <td>2013-01-31</td>\n",
       "      <td>198.0</td>\n",
       "      <td>-5.2</td>\n",
       "      <td>1543</td>\n",
       "      <td>5115</td>\n",
       "      <td>-5.8</td>\n",
       "      <td>49</td>\n",
       "      <td>0</td>\n",
       "      <td>97.2</td>\n",
       "      <td>82.0</td>\n",
       "      <td>NaN</td>\n",
       "    </tr>\n",
       "    <tr>\n",
       "      <th>12</th>\n",
       "      <td>Austin</td>\n",
       "      <td>Texas</td>\n",
       "      <td>2013-02-28</td>\n",
       "      <td>207.0</td>\n",
       "      <td>4.6</td>\n",
       "      <td>1782</td>\n",
       "      <td>5162</td>\n",
       "      <td>0.9</td>\n",
       "      <td>51</td>\n",
       "      <td>2</td>\n",
       "      <td>97.7</td>\n",
       "      <td>82.0</td>\n",
       "      <td>NaN</td>\n",
       "    </tr>\n",
       "    <tr>\n",
       "      <th>13</th>\n",
       "      <td>Austin</td>\n",
       "      <td>Texas</td>\n",
       "      <td>2013-03-31</td>\n",
       "      <td>217.0</td>\n",
       "      <td>4.8</td>\n",
       "      <td>2354</td>\n",
       "      <td>5432</td>\n",
       "      <td>5.2</td>\n",
       "      <td>29</td>\n",
       "      <td>-22</td>\n",
       "      <td>98.1</td>\n",
       "      <td>87.0</td>\n",
       "      <td>NaN</td>\n",
       "    </tr>\n",
       "    <tr>\n",
       "      <th>14</th>\n",
       "      <td>Austin</td>\n",
       "      <td>Texas</td>\n",
       "      <td>2013-04-30</td>\n",
       "      <td>225.0</td>\n",
       "      <td>3.7</td>\n",
       "      <td>2658</td>\n",
       "      <td>5673</td>\n",
       "      <td>4.4</td>\n",
       "      <td>19</td>\n",
       "      <td>-10</td>\n",
       "      <td>98.6</td>\n",
       "      <td>85.0</td>\n",
       "      <td>NaN</td>\n",
       "    </tr>\n",
       "    <tr>\n",
       "      <th>15</th>\n",
       "      <td>Austin</td>\n",
       "      <td>Texas</td>\n",
       "      <td>2013-05-31</td>\n",
       "      <td>228.0</td>\n",
       "      <td>1.3</td>\n",
       "      <td>3172</td>\n",
       "      <td>6038</td>\n",
       "      <td>6.4</td>\n",
       "      <td>19</td>\n",
       "      <td>0</td>\n",
       "      <td>98.9</td>\n",
       "      <td>87.0</td>\n",
       "      <td>NaN</td>\n",
       "    </tr>\n",
       "  </tbody>\n",
       "</table>\n",
       "</div>"
      ],
      "text/plain": [
       "      City  State       Month  Median Sale Price  Median Sale Price MoM  \\\n",
       "11  Austin  Texas  2013-01-31              198.0                   -5.2   \n",
       "12  Austin  Texas  2013-02-28              207.0                    4.6   \n",
       "13  Austin  Texas  2013-03-31              217.0                    4.8   \n",
       "14  Austin  Texas  2013-04-30              225.0                    3.7   \n",
       "15  Austin  Texas  2013-05-31              228.0                    1.3   \n",
       "\n",
       "    Homes Sold  Inventory  Inventory MoM  Days on Market  Days on Market MoM  \\\n",
       "11        1543       5115           -5.8              49                   0   \n",
       "12        1782       5162            0.9              51                   2   \n",
       "13        2354       5432            5.2              29                 -22   \n",
       "14        2658       5673            4.4              19                 -10   \n",
       "15        3172       6038            6.4              19                   0   \n",
       "\n",
       "    Average Sale To List  CR Austin  CR Dallas  \n",
       "11                  97.2       82.0        NaN  \n",
       "12                  97.7       82.0        NaN  \n",
       "13                  98.1       87.0        NaN  \n",
       "14                  98.6       85.0        NaN  \n",
       "15                  98.9       87.0        NaN  "
      ]
     },
     "execution_count": 4,
     "metadata": {},
     "output_type": "execute_result"
    }
   ],
   "source": [
    "merge_Austin_data.head(5)\n"
   ]
  },
  {
   "cell_type": "code",
   "execution_count": 5,
   "metadata": {},
   "outputs": [
    {
     "data": {
      "text/html": [
       "<div>\n",
       "<style scoped>\n",
       "    .dataframe tbody tr th:only-of-type {\n",
       "        vertical-align: middle;\n",
       "    }\n",
       "\n",
       "    .dataframe tbody tr th {\n",
       "        vertical-align: top;\n",
       "    }\n",
       "\n",
       "    .dataframe thead th {\n",
       "        text-align: right;\n",
       "    }\n",
       "</style>\n",
       "<table border=\"1\" class=\"dataframe\">\n",
       "  <thead>\n",
       "    <tr style=\"text-align: right;\">\n",
       "      <th></th>\n",
       "      <th>City</th>\n",
       "      <th>State</th>\n",
       "      <th>Month</th>\n",
       "      <th>Median Sale Price</th>\n",
       "      <th>Median Sale Price MoM</th>\n",
       "      <th>Homes Sold</th>\n",
       "      <th>Inventory</th>\n",
       "      <th>Inventory MoM</th>\n",
       "      <th>Days on Market</th>\n",
       "      <th>Days on Market MoM</th>\n",
       "      <th>Average Sale To List</th>\n",
       "      <th>CR Austin</th>\n",
       "      <th>CR Dallas</th>\n",
       "    </tr>\n",
       "  </thead>\n",
       "  <tbody>\n",
       "  </tbody>\n",
       "</table>\n",
       "</div>"
      ],
      "text/plain": [
       "Empty DataFrame\n",
       "Columns: [City, State, Month, Median Sale Price, Median Sale Price MoM, Homes Sold, Inventory, Inventory MoM, Days on Market, Days on Market MoM, Average Sale To List, CR Austin, CR Dallas]\n",
       "Index: []"
      ]
     },
     "execution_count": 5,
     "metadata": {},
     "output_type": "execute_result"
    }
   ],
   "source": [
    "merge_Dallas_data.head(5)"
   ]
  },
  {
   "cell_type": "code",
   "execution_count": 6,
   "metadata": {},
   "outputs": [
    {
     "name": "stdout",
     "output_type": "stream",
     "text": [
      "Calculations for Austin competitiveness ratio (RedFin) against Inventory\n",
      "Y=  83.5387-0.0006 X\n",
      "The r-square for this model is  0.0164\n",
      "This means the significance of the model is weak\n"
     ]
    },
    {
     "data": {
      "image/png": "[encoded data removed]",
      "text/plain": [
       "<Figure size 432x288 with 1 Axes>"
      ]
     },
     "metadata": {
      "needs_background": "light"
     },
     "output_type": "display_data"
    },
    {
     "name": "stdout",
     "output_type": "stream",
     "text": [
      "Calculations for Austin competitiveness ratio (RedFin) against Median Sale Price\n",
      "Y=  96.5817-0.0525 X\n",
      "The r-square for this model is  0.4159\n",
      "This means the significance of the model is moderate\n"
     ]
    },
    {
     "data": {
      "image/png": "[encoded data removed]",
      "text/plain": [
       "<Figure size 432x288 with 1 Axes>"
      ]
     },
     "metadata": {
      "needs_background": "light"
     },
     "output_type": "display_data"
    },
    {
     "name": "stdout",
     "output_type": "stream",
     "text": [
      "Calculations for Austin competitiveness ratio (RedFin) against Days on Market\n",
      "Y=  93.0183-0.4361 X\n",
      "The r-square for this model is  0.4370\n",
      "This means the significance of the model is moderate\n"
     ]
    },
    {
     "data": {
      "image/png": "[encoded data removed]",
      "text/plain": [
       "<Figure size 432x288 with 1 Axes>"
      ]
     },
     "metadata": {
      "needs_background": "light"
     },
     "output_type": "display_data"
    }
   ],
   "source": [
    "#Calculates regression lines for hotness index vs inventories, price, days in market\n",
    "cities=['Austin']#,'Dallas']\n",
    "variables=['Inventory', 'Median Sale Price', 'Days on Market']\n",
    "hot_ratio=''\n",
    "\n",
    "for variable in variables:\n",
    "\tfor city in cities:\n",
    "\t\tif city =='Austin':\n",
    "\t\t\tx_val=merge_Austin_data[variable]\n",
    "\t\t\tresult=linregress(merge_Austin_data[variable],merge_Austin_data['CR Austin'])\n",
    "\t\t\tmerge_Austin_data.plot(kind='scatter',x= f\"{variable}\",y='CR Austin',c=\"coral\")\n",
    "\t\telse:\n",
    "\t\t\tx_val=merge_Dallas_data[variable]\n",
    "\t\t\tresult=linregress(merge_Dallas_data[variable],merge_Dallas_data['CR Dallas'])\n",
    "\t\t\tmerge_Dallas_data.plot(kind='scatter',x= f\"{variable}\",y='CR Dallas',c=\"midnightblue\")\n",
    "\n",
    "\tabs_result=abs(result.rvalue)\n",
    "\t\n",
    "\tif abs_result < 0.4:\n",
    "\t\tsignificance ='weak'\n",
    "\telif abs_result <= 0.8: \n",
    "\t\tsignificance='moderate'\n",
    "\telif abs_result >= 0.8:\n",
    "\t\tsignificance='strong'\n",
    "\n",
    "\tif result.slope <0:\n",
    "\t\toperator =\"\"\n",
    "\telse:\n",
    "\t\toperator =\"+\"\n",
    "\n",
    "\t#Prints the results of the regression\n",
    "\treg_line=f'Y= {result.intercept: 0.4f}{operator}{result.slope: 0.4f} X'\n",
    "\tregression = x_val * result.slope + result.intercept\n",
    "\n",
    "\tif variable =='Inventory':\n",
    "\t\tpoint=6000\n",
    "\telif variable =='Median Sale Price':\n",
    "\t\tpoint=350\n",
    "\telse: \n",
    "\t\tpoint=30\n",
    "\t\n",
    "\n",
    "\tprint(f'Calculations for {city} competitiveness ratio (RedFin) against {variable}')\n",
    "\tprint(reg_line)\t\n",
    "\tprint(f'The r-square for this model is {result.rvalue**2: 0.4f}')\n",
    "\tprint(f'This means the significance of the model is {significance}')\n",
    "\n",
    "\t#Formats, dsiplay and saves the graphs\n",
    "\tplt.title(f'{variable} against Competitive Ratio {city}')\n",
    "\tplt.xlabel(f'{variable}')\n",
    "\tplt.ylabel(f\"Comp Ratio {city}\")\t\n",
    "\tplt.plot(x_val,regression,\"r-\")\n",
    "\tplt.annotate(reg_line, (point,60), fontsize=10,color=\"red\")\n",
    "\t\t\n",
    "\t# Save the figure\n",
    "\tplt.savefig(f\"Regression_CR_{variable}_{city}.png\")\n",
    "\tplt.show()\n"
   ]
  }
 ],
 "metadata": {
  "kernelspec": {
   "display_name": "PythonData",
   "language": "python",
   "name": "python3"
  },
  "language_info": {
   "codemirror_mode": {
    "name": "ipython",
    "version": 3
   },
   "file_extension": ".py",
   "mimetype": "text/x-python",
   "name": "python",
   "nbconvert_exporter": "python",
   "pygments_lexer": "ipython3",
   "version": "3.7.7"
  },
  "orig_nbformat": 4,
  "vscode": {
   "interpreter": {
    "hash": "8bc0639b20ada1ce0b6840da4fc3c1dc4d89207ec4036cee9b5a24f9fff80812"
   }
  }
 },
 "nbformat": 4,
 "nbformat_minor": 2
}
