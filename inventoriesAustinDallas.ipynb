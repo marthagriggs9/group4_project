{
 "cells": [
  {
   "attachments": {},
   "cell_type": "markdown",
   "metadata": {},
   "source": [
    "Inventory Analysis"
   ]
  },
  {
   "cell_type": "code",
   "execution_count": 9,
   "metadata": {},
   "outputs": [],
   "source": [
    "# Import dependencies\n",
    "import matplotlib.pyplot as plt\n",
    "import pandas as pd\n",
    "import numpy as np\n",
    "#import random\n",
    "from scipy.stats import pearsonr\n",
    "from datetime import datetime\n",
    "from statistics import mean\n"
   ]
  },
  {
   "cell_type": "code",
   "execution_count": 10,
   "metadata": {},
   "outputs": [
    {
     "data": {
      "text/plain": [
       "City                      object\n",
       "State                     object\n",
       "Month                     object\n",
       "Median Sale Price        float64\n",
       "Median Sale Price MoM    float64\n",
       "Homes Sold                 int64\n",
       "Inventory                  int64\n",
       "Inventory MoM            float64\n",
       "Days on Market             int64\n",
       "Days on Market MoM         int64\n",
       "Average Sale To List     float64\n",
       "dtype: object"
      ]
     },
     "execution_count": 10,
     "metadata": {},
     "output_type": "execute_result"
    }
   ],
   "source": [
    "#Read the data from file\n",
    "path =('data/cleandata.csv')\n",
    "clean_df=pd.read_csv(path)\n",
    "list(clean_df)\n",
    "clean_df.dtypes"
   ]
  },
  {
   "cell_type": "code",
   "execution_count": 11,
   "metadata": {},
   "outputs": [
    {
     "data": {
      "text/html": [
       "<div>\n",
       "<style scoped>\n",
       "    .dataframe tbody tr th:only-of-type {\n",
       "        vertical-align: middle;\n",
       "    }\n",
       "\n",
       "    .dataframe tbody tr th {\n",
       "        vertical-align: top;\n",
       "    }\n",
       "\n",
       "    .dataframe thead th {\n",
       "        text-align: right;\n",
       "    }\n",
       "</style>\n",
       "<table border=\"1\" class=\"dataframe\">\n",
       "  <thead>\n",
       "    <tr style=\"text-align: right;\">\n",
       "      <th></th>\n",
       "      <th>City</th>\n",
       "      <th>State</th>\n",
       "      <th>Month</th>\n",
       "      <th>Median Sale Price</th>\n",
       "      <th>Median Sale Price MoM</th>\n",
       "      <th>Homes Sold</th>\n",
       "      <th>Inventory</th>\n",
       "      <th>Inventory MoM</th>\n",
       "      <th>Days on Market</th>\n",
       "      <th>Days on Market MoM</th>\n",
       "      <th>Average Sale To List</th>\n",
       "    </tr>\n",
       "  </thead>\n",
       "  <tbody>\n",
       "    <tr>\n",
       "      <th>0</th>\n",
       "      <td>Austin</td>\n",
       "      <td>Texas</td>\n",
       "      <td>2012-02-29</td>\n",
       "      <td>190.0</td>\n",
       "      <td>5.6</td>\n",
       "      <td>1403</td>\n",
       "      <td>6941</td>\n",
       "      <td>1.2</td>\n",
       "      <td>74</td>\n",
       "      <td>0</td>\n",
       "      <td>96.7</td>\n",
       "    </tr>\n",
       "    <tr>\n",
       "      <th>1</th>\n",
       "      <td>Austin</td>\n",
       "      <td>Texas</td>\n",
       "      <td>2012-03-31</td>\n",
       "      <td>200.0</td>\n",
       "      <td>5.1</td>\n",
       "      <td>2076</td>\n",
       "      <td>7394</td>\n",
       "      <td>6.5</td>\n",
       "      <td>58</td>\n",
       "      <td>-16</td>\n",
       "      <td>97.3</td>\n",
       "    </tr>\n",
       "    <tr>\n",
       "      <th>2</th>\n",
       "      <td>Austin</td>\n",
       "      <td>Texas</td>\n",
       "      <td>2012-04-30</td>\n",
       "      <td>205.0</td>\n",
       "      <td>2.7</td>\n",
       "      <td>2120</td>\n",
       "      <td>7698</td>\n",
       "      <td>4.1</td>\n",
       "      <td>39</td>\n",
       "      <td>-19</td>\n",
       "      <td>97.7</td>\n",
       "    </tr>\n",
       "    <tr>\n",
       "      <th>3</th>\n",
       "      <td>Austin</td>\n",
       "      <td>Texas</td>\n",
       "      <td>2012-05-31</td>\n",
       "      <td>210.0</td>\n",
       "      <td>2.4</td>\n",
       "      <td>2584</td>\n",
       "      <td>7908</td>\n",
       "      <td>2.7</td>\n",
       "      <td>36</td>\n",
       "      <td>-3</td>\n",
       "      <td>97.6</td>\n",
       "    </tr>\n",
       "    <tr>\n",
       "      <th>4</th>\n",
       "      <td>Austin</td>\n",
       "      <td>Texas</td>\n",
       "      <td>2012-06-30</td>\n",
       "      <td>214.0</td>\n",
       "      <td>2.0</td>\n",
       "      <td>2842</td>\n",
       "      <td>8152</td>\n",
       "      <td>3.1</td>\n",
       "      <td>31</td>\n",
       "      <td>-5</td>\n",
       "      <td>97.8</td>\n",
       "    </tr>\n",
       "  </tbody>\n",
       "</table>\n",
       "</div>"
      ],
      "text/plain": [
       "     City  State       Month  Median Sale Price  Median Sale Price MoM  \\\n",
       "0  Austin  Texas  2012-02-29              190.0                    5.6   \n",
       "1  Austin  Texas  2012-03-31              200.0                    5.1   \n",
       "2  Austin  Texas  2012-04-30              205.0                    2.7   \n",
       "3  Austin  Texas  2012-05-31              210.0                    2.4   \n",
       "4  Austin  Texas  2012-06-30              214.0                    2.0   \n",
       "\n",
       "   Homes Sold  Inventory  Inventory MoM  Days on Market  Days on Market MoM  \\\n",
       "0        1403       6941            1.2              74                   0   \n",
       "1        2076       7394            6.5              58                 -16   \n",
       "2        2120       7698            4.1              39                 -19   \n",
       "3        2584       7908            2.7              36                  -3   \n",
       "4        2842       8152            3.1              31                  -5   \n",
       "\n",
       "   Average Sale To List  \n",
       "0                  96.7  \n",
       "1                  97.3  \n",
       "2                  97.7  \n",
       "3                  97.6  \n",
       "4                  97.8  "
      ]
     },
     "execution_count": 11,
     "metadata": {},
     "output_type": "execute_result"
    }
   ],
   "source": [
    "clean_df.head()"
   ]
  },
  {
   "cell_type": "code",
   "execution_count": 12,
   "metadata": {},
   "outputs": [],
   "source": [
    "#Define values for plots\n",
    "\n",
    "Austin=clean_df.loc[clean_df[\"City\"]=='Austin']\n",
    "Dallas=clean_df.loc[clean_df[\"City\"]=='Dallas']\n",
    "\n",
    "Austin.to_csv('Austin_data.csv', index=0)\n",
    "Dallas.to_csv('Dallas_data.csv', index=0)\n",
    "\n",
    "#Define timeframe\n",
    "index=clean_df.loc[clean_df[\"City\"]=='Austin','Month']\n",
    "index1=[data for data in index]\n",
    "Austin=pd.read_csv('Austin_data.csv')"
   ]
  },
  {
   "cell_type": "code",
   "execution_count": 13,
   "metadata": {},
   "outputs": [
    {
     "name": "stdout",
     "output_type": "stream",
     "text": [
      "The correlation between Days on Market in Austin and Dallas  is 0.658\n",
      "The correlation between Inventory in Austin and Dallas  is 0.696\n",
      "The correlation between Median Sale Price in Austin and Dallas  is 0.981\n"
     ]
    }
   ],
   "source": [
    "#Define values for scatter plot\n",
    "variables=['Days on Market','Inventory','Median Sale Price']\n",
    "Austin=pd.read_csv('Austin_data.csv')\n",
    "Dallas=pd.read_csv('Dallas_data.csv')\n",
    "x_val=[]\n",
    "y_val=[]\n",
    "for variable in variables:\n",
    "    x_val=Austin[variable]\n",
    "    y_val=Dallas[variable]\n",
    "    \n",
    "   #Correlation between variables\n",
    "    correl, _=pearsonr(x_val,y_val)\n",
    "    print(f\"The correlation between {variable} in Austin and Dallas  is {correl:.3f}\")"
   ]
  },
  {
   "cell_type": "code",
   "execution_count": 14,
   "metadata": {},
   "outputs": [
    {
     "data": {
      "image/png": "[encoded data removed]",
      "text/plain": [
       "<Figure size 432x288 with 1 Axes>"
      ]
     },
     "metadata": {
      "needs_background": "light"
     },
     "output_type": "display_data"
    },
    {
     "data": {
      "text/plain": [
       "<Figure size 7200x5040 with 0 Axes>"
      ]
     },
     "metadata": {},
     "output_type": "display_data"
    },
    {
     "data": {
      "image/png": "[encoded data removed]",
      "text/plain": [
       "<Figure size 432x288 with 1 Axes>"
      ]
     },
     "metadata": {
      "needs_background": "light"
     },
     "output_type": "display_data"
    },
    {
     "data": {
      "text/plain": [
       "<Figure size 7200x5040 with 0 Axes>"
      ]
     },
     "metadata": {},
     "output_type": "display_data"
    },
    {
     "data": {
      "image/png": "[encoded data removed]",
      "text/plain": [
       "<Figure size 432x288 with 1 Axes>"
      ]
     },
     "metadata": {
      "needs_background": "light"
     },
     "output_type": "display_data"
    },
    {
     "data": {
      "text/plain": [
       "<Figure size 7200x5040 with 0 Axes>"
      ]
     },
     "metadata": {},
     "output_type": "display_data"
    }
   ],
   "source": [
    "#Scatter graphs for Austin and Dallas\n",
    "x_val=[]\n",
    "y_val=[]\n",
    "for variable in variables:\n",
    "    \n",
    "    x_val=Austin[variable]\n",
    "    y_val=Dallas[variable]\n",
    "\n",
    "    df=pd.DataFrame({'Austin':x_val,'Dallas':y_val})\n",
    "    df.plot.scatter(x='Austin', y='Dallas',c=\"green\")\n",
    "    \n",
    "    plt.title(f'{variable} Dallas vs Austin')\n",
    "    plt.xlabel(f'Austin House {variable}')\n",
    "    plt.ylabel(f\"Dallas House {variable}\")\n",
    "    \n",
    "    # Save the figure\n",
    "    plt.savefig(f\"Scatter_plot_{variable}.png\")\n",
    "    \n",
    "    #Display the figure\n",
    "    plt.figure(figsize= (100,70));\n",
    "    "
   ]
  },
  {
   "cell_type": "code",
   "execution_count": 15,
   "metadata": {},
   "outputs": [],
   "source": [
    "#Average on Inventories\n",
    "cities=[\"Austin\",\"Dallas\"]\n",
    "\n",
    "freq=12    #3 quarter, 6 semester, 12 annual\n",
    "x_val_1=[]\n",
    "y_val_1=[]\n",
    "q_dates=[]\n",
    "temp=0\n",
    "cont=0\n",
    "\n",
    "for  index, row in Austin.iterrows():\n",
    "    temp = temp + row['Inventory']  \n",
    "    cont+=1\n",
    "    if cont==freq:\n",
    "        x_val_1.append(temp)\n",
    "        q_dates.append(row['Month'])\n",
    "        cont=0\n",
    "        temp=0\n",
    "\n",
    "temp=0\n",
    "cont=0\n",
    "\n",
    "for  index, row in Dallas.iterrows():\n",
    "    temp = temp + row['Inventory']  \n",
    "    cont+=1\n",
    "    if cont==freq:\n",
    "        y_val_1.append(temp)\n",
    "        cont=0\n",
    "        temp=0\n"
   ]
  },
  {
   "cell_type": "code",
   "execution_count": 16,
   "metadata": {},
   "outputs": [
    {
     "data": {
      "image/png": "[encoded data removed]",
      "text/plain": [
       "<Figure size 432x288 with 1 Axes>"
      ]
     },
     "metadata": {
      "needs_background": "light"
     },
     "output_type": "display_data"
    },
    {
     "data": {
      "text/plain": [
       "<Figure size 7200x5040 with 0 Axes>"
      ]
     },
     "metadata": {},
     "output_type": "display_data"
    }
   ],
   "source": [
    "#Displaying bar graphs\n",
    "\n",
    "bar_df = pd.DataFrame({'Month': q_dates, 'Austin': x_val_1,'Dallas': y_val_1})\n",
    "bargraph = bar_df.plot(x=\"Month\", y=[\"Austin\", \"Dallas\"], kind=\"bar\",color=['coral','midnightblue'])\n",
    "\n",
    "frequency =f'{freq}-Month Data'\n",
    "plt.title(f'Inventories Dallas vs Austin \\n {frequency}', fontsize=12)\n",
    "plt.xlabel('Months',fontsize=10)\n",
    "plt.ylabel(\"Number of Houses\",fontsize=10)\n",
    "plt.legend(fontsize=8)\n",
    "\n",
    "# Save the figure\n",
    "plt.savefig(\"images/Bar_graph_Inventory.png\")\n",
    "plt.figure(figsize= (100,70));\n",
    "\n",
    "#colors = ['coral','midnightblue']"
   ]
  }
 ],
 "metadata": {
  "kernelspec": {
   "display_name": "PythonData",
   "language": "python",
   "name": "python3"
  },
  "language_info": {
   "codemirror_mode": {
    "name": "ipython",
    "version": 3
   },
   "file_extension": ".py",
   "mimetype": "text/x-python",
   "name": "python",
   "nbconvert_exporter": "python",
   "pygments_lexer": "ipython3",
   "version": "3.7.7 (default, May  6 2020, 11:45:54) [MSC v.1916 64 bit (AMD64)]"
  },
  "orig_nbformat": 4,
  "vscode": {
   "interpreter": {
    "hash": "8bc0639b20ada1ce0b6840da4fc3c1dc4d89207ec4036cee9b5a24f9fff80812"
   }
  }
 },
 "nbformat": 4,
 "nbformat_minor": 2
}
